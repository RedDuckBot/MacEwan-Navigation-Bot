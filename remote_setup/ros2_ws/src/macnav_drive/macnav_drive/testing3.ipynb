{
 "cells": [
  {
   "cell_type": "markdown",
   "metadata": {},
   "source": [
    "# Dan & Damion cmpt 370 project"
   ]
  },
  {
   "cell_type": "code",
   "execution_count": 1,
   "metadata": {},
   "outputs": [],
   "source": [
    "import cv2\n",
    "import numpy as np\n",
    "from matplotlib import pyplot as plt"
   ]
  },
  {
   "cell_type": "markdown",
   "metadata": {},
   "source": [
    "load the global and local maps"
   ]
  },
  {
   "cell_type": "code",
   "execution_count": 2,
   "metadata": {},
   "outputs": [],
   "source": [
    "global_map = cv2.imread('../maps/test_global.png')\n",
    "global_map = cv2.cvtColor(global_map, cv2.COLOR_RGB2GRAY)\n",
    "global_map_obstacles = cv2.imread('../maps/test_global_obstacles.png')\n",
    "global_map_obstacles = cv2.cvtColor(global_map_obstacles, cv2.COLOR_RGB2GRAY)\n",
    "local_map = cv2.imread('../maps/test_local.png')\n",
    "local_map = cv2.cvtColor(local_map, cv2.COLOR_RGB2GRAY)"
   ]
  },
  {
   "cell_type": "markdown",
   "metadata": {},
   "source": [
    "some helper functions for visualization. these functions arent important for the actual localization function but are included to help view whats happening"
   ]
  },
  {
   "cell_type": "code",
   "execution_count": 3,
   "metadata": {},
   "outputs": [],
   "source": [
    "# pyplot simplification\n",
    "def imshow(im):\n",
    "    plt.xticks([]), plt.yticks([])\n",
    "    plt.imshow(im, cmap=\"gray\")\n",
    "    plt.show()"
   ]
  },
  {
   "cell_type": "code",
   "execution_count": 4,
   "metadata": {},
   "outputs": [],
   "source": [
    "# testing function to properly show angles calculated from\n",
    "# sobel operator. ang should be -pi < ang < pi\n",
    "def show_ang(ang):\n",
    "    hue = ang / (2*np.pi)\n",
    "    hue = hue + 0.5\n",
    "    hue[hue > 1] = 1.0\n",
    "    val = np.ones_like(hue)\n",
    "    sat = np.ones_like(hue)\n",
    "    val[np.isnan(hue)] = 0\n",
    "    sat[np.isnan(hue)] = 0\n",
    "    hue = np.nan_to_num(hue)\n",
    "    hsv = np.stack((hue, sat, val), axis=-1)\n",
    "    plt.xticks([]), plt.yticks([])\n",
    "    plt.imshow(hsv, cmap='hsv')\n",
    "    plt.show()"
   ]
  },
  {
   "cell_type": "code",
   "execution_count": 5,
   "metadata": {},
   "outputs": [],
   "source": [
    "# draws an arrow on a point for visualizing poses on maps\n",
    "def drawArrow(m, px, py, pt):\n",
    "    line_len = int(min(m.shape)/30)\n",
    "    line_width = int(min(m.shape)/100)\n",
    "    circle_width = int(min(m.shape)/75)\n",
    "    mc = np.copy(m)\n",
    "    endx = int(px + line_len*np.cos(pt))\n",
    "    endy = int(py + line_len*np.sin(pt))\n",
    "    cv2.circle(mc, (px,py), circle_width, 100, thickness=-1)\n",
    "    return cv2.line(mc, (px,py), (endx, endy), 100, line_width)"
   ]
  },
  {
   "cell_type": "markdown",
   "metadata": {},
   "source": [
    "helper functions for the main localization algorthm"
   ]
  },
  {
   "cell_type": "code",
   "execution_count": 6,
   "metadata": {},
   "outputs": [],
   "source": [
    "# generates magnitudes and angles from an image\n",
    "# mag = (x**2 + y**2)**0.5\n",
    "# ang = atan(y/x)\n",
    "# sets pixles where x == 0 to nan\n",
    "def setup_map(im):\n",
    "    imx = cv2.Sobel(im, cv2.CV_32F, 1, 0, ksize=5)\n",
    "    imy = cv2.Sobel(im, cv2.CV_32F, 0, 1, ksize=5)\n",
    "    mag = np.sqrt(imx**2 + imy**2)\n",
    "    t = np.ones(im.shape)\n",
    "    m = (imx == 0) & (imy == 0)\n",
    "    t[m] = np.nan\n",
    "    ang = np.where(t == 1, np.arctan2(imy, imx), t)\n",
    "    return mag, ang"
   ]
  },
  {
   "cell_type": "code",
   "execution_count": 7,
   "metadata": {},
   "outputs": [],
   "source": [
    "# creates a transformed version of the local map such that\n",
    "# the local map is padded to the size of the global and\n",
    "# the poses pg and pl are in the same spot\n",
    "def transform_local(global_map, local_map, pg, pl):\n",
    "    # pad local map to be the size of global map\n",
    "    lh,lw = local_map.shape\n",
    "    local_pad = np.full(global_map.shape, 0.0, dtype=np.float32)\n",
    "    local_pad[0:lh,0:lw] = local_map\n",
    "\n",
    "    # find transform from global to local\n",
    "    #  create points at the points at next to the points\n",
    "    pg0 = pg[0], pg[1]\n",
    "    pg1 = pg[0]+np.cos(pg[2]), pg[1]+np.sin(pg[2])\n",
    "    pg2 = pg[0]+np.cos(pg[2]+np.pi/2), pg[1]+np.sin(pg[2]+np.pi/2)\n",
    "    global_points = np.array([pg0,pg1,pg2], dtype=np.float32)\n",
    "\n",
    "    pl0 = pl[0], pl[1]\n",
    "    pl1 = pl[0]+np.cos(pl[2]), pl[1]+np.sin(pl[2])\n",
    "    pl2 = pl[0]+np.cos(pl[2]+np.pi/2), pl[1]+np.sin(pl[2]+np.pi/2)\n",
    "    local_points = np.array([pl0,pl1,pl2], dtype=np.float32)\n",
    "    #  get affine transform from points\n",
    "    tf = cv2.getAffineTransform(local_points, global_points)\n",
    "\n",
    "    # transform local by found transform\n",
    "    local_tf = cv2.warpAffine(local_pad, tf, (local_pad.shape[1],local_pad.shape[0]))\n",
    "    return local_tf"
   ]
  },
  {
   "cell_type": "code",
   "execution_count": 8,
   "metadata": {},
   "outputs": [],
   "source": [
    "# calculates the weight of a pose.\n",
    "# requires the maps to be transformed such that the\n",
    "# poses are overlapping\n",
    "def calc_weight(global_ang, local_ang, local_mag):\n",
    "    pixel_weights = 1 - (2 * np.abs(np.arctan(np.sin(local_ang - global_ang) / np.cos(local_ang - global_ang))) / np.pi)\n",
    "    pixel_weights[pixel_weights<0] = 0\n",
    "    pixel_weights = pixel_weights * local_mag\n",
    "    return np.nansum(pixel_weights)"
   ]
  },
  {
   "cell_type": "code",
   "execution_count": 9,
   "metadata": {},
   "outputs": [],
   "source": [
    "# geneartes n particles normaly distributed around a pose\n",
    "def generate_particles(pose, point_std, rot_std, n):\n",
    "    particles = np.random.multivariate_normal((pose[0], pose[1]), [[point_std,0],[0,point_std]], n)\n",
    "    dirs = np.random.normal(pose[2], rot_std, n)\n",
    "    particles = np.hstack((particles, dirs[:,np.newaxis]))\n",
    "    particles = np.vstack((particles, pose))\n",
    "    return particles"
   ]
  },
  {
   "cell_type": "markdown",
   "metadata": {},
   "source": [
    "## setup\n",
    "\n",
    "As this is just a demo notebook some steps have been skipped\n",
    " - the local pose we are setting with plx,ply,pla would come from sensor data. As the robot builds the local slam map it keeps track of where the robot is relative to the map so we are just setting this value manualy.\n",
    " - the global pose would initially be set by estimating the robots pose in the global map. Here we are setting the pose to a value slightly off of the local pose.\n",
    " - as the robot drives around the true pose would drift off of what is calculated through dead reckoning. As new local maps are processed our localization algorithm would need to be re-run with the updated pose estimate. As this is essentially the same problem as localizing from the inital pose estimate we dont show any calculations from after the robot moves."
   ]
  },
  {
   "cell_type": "code",
   "execution_count": 10,
   "metadata": {},
   "outputs": [
    {
     "data": {
      "image/png": "[encoded data removed]",
      "text/plain": [
       "<Figure size 640x480 with 1 Axes>"
      ]
     },
     "metadata": {},
     "output_type": "display_data"
    },
    {
     "data": {
      "image/png": "[encoded data removed]",
      "text/plain": [
       "<Figure size 640x480 with 1 Axes>"
      ]
     },
     "metadata": {},
     "output_type": "display_data"
    }
   ],
   "source": [
    "# x,y,rotation coordinates of the estimate for the robots \n",
    "# pose in the global map\n",
    "pgx = 740\n",
    "pgy = 410\n",
    "pga = 0.1\n",
    "\n",
    "# x,y,rotation coordinates of the robots pose in the local map\n",
    "# this would come from sensor data in the actual robot\n",
    "plx = 70\n",
    "ply = 70\n",
    "pla = 0\n",
    "\n",
    "global_arrow = drawArrow(global_map, pgx, pgy, pga)\n",
    "imshow(global_arrow)\n",
    "\n",
    "local_arrow = drawArrow(local_map, plx, ply, pla)\n",
    "imshow(local_arrow)"
   ]
  },
  {
   "cell_type": "markdown",
   "metadata": {},
   "source": [
    "These two maps show the initial pose estimate of the robot in the global map and the true robot \n",
    "pose in the local map that would be collected from sensor data. \n",
    "\n",
    "Overlaying these two maps show the local pose is in a different spot from the global, open space in the global map is represented by the green channel in the rgb image and open space in the local map is represented by hte red channel. The areas they overlap are shown in yellow."
   ]
  },
  {
   "cell_type": "code",
   "execution_count": 11,
   "metadata": {},
   "outputs": [
    {
     "data": {
      "image/png": "[encoded data removed]",
      "text/plain": [
       "<Figure size 640x480 with 1 Axes>"
      ]
     },
     "metadata": {},
     "output_type": "display_data"
    }
   ],
   "source": [
    "local_transformed = transform_local(global_map, local_map, (pgx,pgy,pga), (plx,ply,pla))\n",
    "comb = np.stack((local_transformed,global_map,np.zeros_like(global_map)), axis=2)\n",
    "imshow(comb.astype(np.uint8))"
   ]
  },
  {
   "cell_type": "code",
   "execution_count": 12,
   "metadata": {},
   "outputs": [],
   "source": [
    "def localize(local_map, global_map, pose_local, pose_global,\n",
    "             blur_std=30,\n",
    "             particle_point_std=30,\n",
    "             particle_rot_std=0.1,\n",
    "             n_particles=30,\n",
    "             rounds=3,\n",
    "             c=0.75,\n",
    "             it=1,\n",
    "             verbose=False):\n",
    "    \n",
    "    # blur and setup global map\n",
    "    global_blur = cv2.GaussianBlur(global_map, (51,51), blur_std)\n",
    "    global_mag, global_ang = setup_map(global_blur.astype(np.float32))\n",
    "\n",
    "    # generate particles\n",
    "    particles = generate_particles(pose_global, particle_point_std, particle_rot_std, n_particles)\n",
    "    \n",
    "    # find max weight\n",
    "    best_weight = 0\n",
    "    best_pose = None\n",
    "    for particle in particles:\n",
    "        particle_local_map = transform_local(global_map, local_map, particle, pose_local)\n",
    "        particle_local_blur = cv2.GaussianBlur(particle_local_map, (51,51), blur_std)\n",
    "        particle_local_mag, particle_local_ang = setup_map(particle_local_blur)\n",
    "        weight = calc_weight(global_ang, particle_local_ang, particle_local_mag)\n",
    "        if weight > best_weight:\n",
    "            best_weight = weight\n",
    "            best_pose = particle\n",
    "\n",
    "    if verbose:\n",
    "        # show the best map from this recursive round \n",
    "        best_local_map = transform_local(global_map, local_map, best_pose, pose_local)\n",
    "        comb = np.stack((best_local_map,global_map,np.zeros_like(global_map)), axis=2)\n",
    "\n",
    "        print(f\"best pose from round {it}\")\n",
    "        imshow(comb.astype(np.uint8))\n",
    "\n",
    "    # recursively calling this algorithm with tighter distributions in the particle generation\n",
    "    # and blur function allows the algorithm to zero in on the highest weight pose with\n",
    "    # a lower number of particles generated than doing it in one step\n",
    "    if it < rounds:\n",
    "        return localize(local_map, global_map, pose_local, best_pose,\n",
    "                        blur_std=blur_std*c,\n",
    "                        particle_point_std=particle_point_std*c,\n",
    "                        particle_rot_std=particle_rot_std*c,\n",
    "                        n_particles=int(n_particles*c),\n",
    "                        rounds=rounds,\n",
    "                        c=c,\n",
    "                        it=it+1, verbose=verbose)\n",
    "    else:\n",
    "        best_local_map = transform_local(global_map, local_map, best_pose, pose_local)\n",
    "        comb = np.stack((best_local_map,global_map,np.zeros_like(global_map)), axis=2)\n",
    "\n",
    "        print(f\"best pose found\")\n",
    "        imshow(comb.astype(np.uint8))\n",
    "        return best_pose\n",
    "\n",
    "    \n"
   ]
  },
  {
   "cell_type": "code",
   "execution_count": 13,
   "metadata": {},
   "outputs": [
    {
     "name": "stdout",
     "output_type": "stream",
     "text": [
      "best pose found\n"
     ]
    },
    {
     "data": {
      "image/png": "[encoded data removed]",
      "text/plain": [
       "<Figure size 640x480 with 1 Axes>"
      ]
     },
     "metadata": {},
     "output_type": "display_data"
    },
    {
     "data": {
      "text/plain": [
       "array([7.48226565e+02, 4.05083020e+02, 7.26430734e-03])"
      ]
     },
     "execution_count": 13,
     "metadata": {},
     "output_type": "execute_result"
    }
   ],
   "source": [
    "localize(local_map, global_map, (plx,ply,pla), (pgx,pgy,pga), n_particles=30, rounds=3)"
   ]
  },
  {
   "cell_type": "markdown",
   "metadata": {},
   "source": [
    "You may have noticed that this example is pretty much the easisiest possible situation for the algoritm to localize in. As such we should explore some\n",
    "\n",
    "## strengths and weaknessess of the algorithm"
   ]
  },
  {
   "cell_type": "markdown",
   "metadata": {},
   "source": [
    "### dealing with imperfect maps\n",
    "\n",
    "Architectural floor plans of buildings only show solid walls and therefore aren't incredibly accurate to the real world.\n",
    "For example, object such as tables, chairs, garbage cans etc. are placed throughout the building which show up in local maps and must be accounted for."
   ]
  },
  {
   "cell_type": "code",
   "execution_count": 14,
   "metadata": {},
   "outputs": [
    {
     "data": {
      "image/png": "[encoded data removed]",
      "text/plain": [
       "<Figure size 640x480 with 1 Axes>"
      ]
     },
     "metadata": {},
     "output_type": "display_data"
    }
   ],
   "source": [
    "pgx_1 = 760\n",
    "pgy_1 = 450\n",
    "pga_1 = 0\n",
    "\n",
    "obstacles_arrow_1 = drawArrow(global_map_obstacles, pgx_1, pgy_1, pga_1)\n",
    "imshow(obstacles_arrow_1)"
   ]
  },
  {
   "cell_type": "markdown",
   "metadata": {},
   "source": [
    "This map is an example of what the map we've been working with may actually look like in real life.\n",
    "The middle hallway has several objects scattered about which arent shown on the global map.\n",
    "Even more problematic is the bottom hallway, which could have some glass walls leading to breakoutrooms on either side of it and some tables placed in the middle of the hallway."
   ]
  },
  {
   "cell_type": "code",
   "execution_count": 15,
   "metadata": {},
   "outputs": [
    {
     "data": {
      "image/png": "[encoded data removed]",
      "text/plain": [
       "<Figure size 640x480 with 1 Axes>"
      ]
     },
     "metadata": {},
     "output_type": "display_data"
    }
   ],
   "source": [
    "local_map_obstacles_1 = global_map_obstacles[300:550, 600:900]\n",
    "\n",
    "plx_1 = 150\n",
    "ply_1 = 140\n",
    "pla_1 = 0.2\n",
    "\n",
    "local_obstacles_arrow_1 = drawArrow(local_map_obstacles_1, plx_1, ply_1, pla_1)\n",
    "imshow(local_obstacles_arrow_1)\n"
   ]
  },
  {
   "cell_type": "markdown",
   "metadata": {},
   "source": [
    "In a position like this where there is still a lot of the original detail the algorithm is able to find the correct position with no issues."
   ]
  },
  {
   "cell_type": "code",
   "execution_count": 16,
   "metadata": {},
   "outputs": [
    {
     "name": "stdout",
     "output_type": "stream",
     "text": [
      "best pose found\n"
     ]
    },
    {
     "data": {
      "image/png": "[encoded data removed]",
      "text/plain": [
       "<Figure size 640x480 with 1 Axes>"
      ]
     },
     "metadata": {},
     "output_type": "display_data"
    },
    {
     "data": {
      "text/plain": [
       "array([7.52738346e+02, 4.37463977e+02, 1.78108839e-01])"
      ]
     },
     "execution_count": 16,
     "metadata": {},
     "output_type": "execute_result"
    }
   ],
   "source": [
    "localize(local_map_obstacles_1, global_map, (plx_1,ply_1,pla_1), (pgx_1,pgy_1,pga_1))"
   ]
  },
  {
   "cell_type": "markdown",
   "metadata": {},
   "source": [
    "### dealing with REALY imperfect maps"
   ]
  },
  {
   "cell_type": "code",
   "execution_count": 17,
   "metadata": {},
   "outputs": [
    {
     "data": {
      "image/png": "[encoded data removed]",
      "text/plain": [
       "<Figure size 640x480 with 1 Axes>"
      ]
     },
     "metadata": {},
     "output_type": "display_data"
    },
    {
     "data": {
      "image/png": "[encoded data removed]",
      "text/plain": [
       "<Figure size 640x480 with 1 Axes>"
      ]
     },
     "metadata": {},
     "output_type": "display_data"
    }
   ],
   "source": [
    "local_map_obstacles_2 = global_map_obstacles[560:900, 70:500]\n",
    "\n",
    "pgx_2 = 340\n",
    "pgy_2 = 730\n",
    "pga_2 = 0 \n",
    "\n",
    "plx_2 = 250\n",
    "ply_2 = 180\n",
    "pla_2 = 0\n",
    "\n",
    "obstacles_arrow_2 = drawArrow(global_map_obstacles, pgx_2, pgy_2, pga_2)\n",
    "local_obstacles_arrow_2 = drawArrow(local_map_obstacles_2, plx_2, ply_2, pla_2)\n",
    "\n",
    "imshow(local_obstacles_arrow_2)\n",
    "imshow(obstacles_arrow_2)\n"
   ]
  },
  {
   "cell_type": "markdown",
   "metadata": {},
   "source": [
    "Localizing in this environment provides a unique challange: there are poses that have a higher weight than the correct one. There are two factors that contribute to this:\n",
    " - the width of the cutouts to the north and south of the hallway are wider than the true area of the walls remaining.\n",
    " - the objects in the middle of the hallway are spaced far enough from the ends of the cutouts to be dected as the opposite walls when the pose estimate is in a location that the back of the cutouts are detected as the real walls.\n",
    "\n",
    "feel free to run this cell a few times to see how rarely it find the correct pose"
   ]
  },
  {
   "cell_type": "code",
   "execution_count": 18,
   "metadata": {},
   "outputs": [
    {
     "name": "stdout",
     "output_type": "stream",
     "text": [
      "best pose found\n"
     ]
    },
    {
     "data": {
      "image/png": "[encoded data removed]",
      "text/plain": [
       "<Figure size 640x480 with 1 Axes>"
      ]
     },
     "metadata": {},
     "output_type": "display_data"
    },
    {
     "data": {
      "text/plain": [
       "array([ 3.22169875e+02,  7.18152386e+02, -1.16830827e-01])"
      ]
     },
     "execution_count": 18,
     "metadata": {},
     "output_type": "execute_result"
    }
   ],
   "source": [
    "localize(local_map_obstacles_2, global_map, (plx_2,ply_2,pla_2),(pgx_2,pgy_2,pga_2))"
   ]
  },
  {
   "cell_type": "markdown",
   "metadata": {},
   "source": [
    "Here the robot consistently fails to localize properly with default parameters in the localization function.\n",
    "\n",
    "With some tuning however the function starts to be more sucessfull:\n",
    "\n",
    "feel free to run this cell a few times to see how much more sucessful it is (still not perfect)"
   ]
  },
  {
   "cell_type": "code",
   "execution_count": 23,
   "metadata": {},
   "outputs": [
    {
     "name": "stdout",
     "output_type": "stream",
     "text": [
      "best pose found\n"
     ]
    },
    {
     "data": {
      "image/png": "[encoded data removed]",
      "text/plain": [
       "<Figure size 640x480 with 1 Axes>"
      ]
     },
     "metadata": {},
     "output_type": "display_data"
    },
    {
     "data": {
      "text/plain": [
       "array([3.24046093e+02, 7.35866498e+02, 2.01381719e-02])"
      ]
     },
     "execution_count": 23,
     "metadata": {},
     "output_type": "execute_result"
    }
   ],
   "source": [
    "localize(local_map_obstacles_2, global_map, (plx_2,ply_2,pla_2), (pgx_2,pgy_2,pga_2), blur_std=7, particle_point_std=15)"
   ]
  },
  {
   "cell_type": "markdown",
   "metadata": {},
   "source": [
    "The two paramers adjusted were:\n",
    " - blur_std: how much the maps were blurred before processing\n",
    " - particle_point_std: how far apart the particles are generated\n",
    "\n",
    "By lowering these values the area the algorithm searches for points is shrunk and the probability of finding incorrect poses that have a higher weight is decreased. It's still not perfect and does find incorrect poses on occasion but is more successful than the base settings.\n",
    "\n",
    "Lowering these settings does have a downside. If the accuracy of dead reckoning from the rover is low enough it can drift far enough to never find the correct pose again so finding the optimal values of these parameters is a tough balancing act between the accuracy of dead reckoning and how porrly behaved the maps are."
   ]
  },
  {
   "cell_type": "markdown",
   "metadata": {},
   "source": [
    "### dealing with low detail "
   ]
  },
  {
   "cell_type": "code",
   "execution_count": 24,
   "metadata": {},
   "outputs": [
    {
     "data": {
      "image/png": "[encoded data removed]",
      "text/plain": [
       "<Figure size 640x480 with 1 Axes>"
      ]
     },
     "metadata": {},
     "output_type": "display_data"
    },
    {
     "data": {
      "image/png": "[encoded data removed]",
      "text/plain": [
       "<Figure size 640x480 with 1 Axes>"
      ]
     },
     "metadata": {},
     "output_type": "display_data"
    }
   ],
   "source": [
    "pgx_3 = 440\n",
    "pgy_3 = 420\n",
    "pga_3 = 0\n",
    "global_arrow_3 = drawArrow(global_map, pgx_3, pgy_3, pga_3)\n",
    "\n",
    "local_map_3 = global_map[300:550,300:550]\n",
    "plx_3 = 100\n",
    "ply_3 = 100\n",
    "pla_3 = 0\n",
    "local_arrow_3 = drawArrow(local_map_3, plx_3, ply_3, pla_3)\n",
    "\n",
    "imshow(global_arrow_3)\n",
    "imshow(local_arrow_3)"
   ]
  },
  {
   "cell_type": "markdown",
   "metadata": {},
   "source": [
    "In this example, there is no detail constraining where the robot could be along the x direction so the position the algorithm will generate will be somewhere random along the wall.\n",
    "\n",
    "try running this next cell a few times to see the x value of the best pose change (ive lower the number of particles so it runs faster but the effect is still present with any number)"
   ]
  },
  {
   "cell_type": "code",
   "execution_count": 35,
   "metadata": {},
   "outputs": [
    {
     "name": "stdout",
     "output_type": "stream",
     "text": [
      "best pose found\n"
     ]
    },
    {
     "data": {
      "image/png": "[encoded data removed]",
      "text/plain": [
       "<Figure size 640x480 with 1 Axes>"
      ]
     },
     "metadata": {},
     "output_type": "display_data"
    },
    {
     "name": "stdout",
     "output_type": "stream",
     "text": [
      "x coord of found best pose 438.1807259477808\n"
     ]
    }
   ],
   "source": [
    "print(f\"x coord of found best pose {localize(local_map_3, global_map, (plx_3,ply_3,pla_3), (pgx_3,pgy_3,pga_3), n_particles=10)[0]}\")"
   ]
  }
 ],
 "metadata": {
  "kernelspec": {
   "display_name": "Python 3",
   "language": "python",
   "name": "python3"
  },
  "language_info": {
   "codemirror_mode": {
    "name": "ipython",
    "version": 3
   },
   "file_extension": ".py",
   "mimetype": "text/x-python",
   "name": "python",
   "nbconvert_exporter": "python",
   "pygments_lexer": "ipython3",
   "version": "3.10.12"
  }
 },
 "nbformat": 4,
 "nbformat_minor": 2
}
